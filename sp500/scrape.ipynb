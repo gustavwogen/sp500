{
 "cells": [
  {
   "cell_type": "code",
   "execution_count": 3,
   "metadata": {},
   "outputs": [
    {
     "data": {
      "text/plain": [
       "True"
      ]
     },
     "execution_count": 3,
     "metadata": {},
     "output_type": "execute_result"
    }
   ],
   "source": [
    "# from sp500.scrape import scrape_sp500, create_sp500_df\n",
    "import os\n",
    "\n",
    "import boto3\n",
    "import pandas as pd\n",
    "import io\n",
    "from datetime import datetime, timedelta\n",
    "import pytz\n",
    "from sqlalchemy import create_engine, text\n",
    "from scrape import scrape_sp500, create_sp500_df\n",
    "import mysql.connector\n",
    "from dotenv import load_dotenv\n",
    "load_dotenv()"
   ]
  },
  {
   "cell_type": "code",
   "execution_count": 4,
   "metadata": {},
   "outputs": [],
   "source": [
    "SP500_URL = \"https://www.slickcharts.com/sp500\""
   ]
  },
  {
   "cell_type": "code",
   "execution_count": 7,
   "metadata": {},
   "outputs": [
    {
     "name": "stdout",
     "output_type": "stream",
     "text": [
      "<mysql.connector.connection_cext.CMySQLConnection object at 0x10c2236d0>\n"
     ]
    }
   ],
   "source": [
    "\n",
    "\n",
    "with mysql.connector.connect(host=os.getenv('HOST'),\n",
    "                                         database=os.getenv('DATABASE'),\n",
    "                                         user=os.getenv('USERNAME'),\n",
    "                                         password=os.getenv('PASSWORD')) as connection:\n",
    "    print(connection)"
   ]
  },
  {
   "cell_type": "code",
   "execution_count": 12,
   "metadata": {},
   "outputs": [],
   "source": [
    "def upload_df_to_sql(df, table):\n",
    "    conn_string = f\"mysql+mysqlconnector://{os.getenv('USERNAME')}:{os.getenv('PASSWORD')}@{os.getenv('HOST')}/{os.getenv('DATABASE')}\"\n",
    "    engine = create_engine(conn_string)\n",
    "    with engine.connect() as connection:\n",
    "        utc_now = pytz.utc.localize(datetime.utcnow())\n",
    "        est_yesterday = utc_now.astimezone(\n",
    "            pytz.timezone(\"America/New_York\")\n",
    "        ) - timedelta(1)\n",
    "\n",
    "        with connection.begin():\n",
    "            query = text(\"select max(Date) from Stocks\")\n",
    "            res = connection.execute(query)\n",
    "            for line in res:\n",
    "                if line[0] is None:\n",
    "                    continue\n",
    "                elif est_yesterday.date() == line[0]:\n",
    "                    return\n",
    "\n",
    "        date_col = [est_yesterday.date()] * df.shape[0]\n",
    "        df[\"Date\"] = date_col\n",
    "        df = df[[\"Date\", \"Company\", \"Symbol\", \"Weight\", \"Price\"]].copy()\n",
    "        df[\"Date\"] = df[\"Date\"].astype(\"datetime64[ns]\")\n",
    "\n",
    "        df.to_sql(table, con=connection, if_exists=\"append\", index=False)\n",
    "\n",
    "\n",
    "soup_obj = scrape_sp500(SP500_URL)\n",
    "df = create_sp500_df(soup_obj)\n",
    "\n",
    "upload_df_to_sql(df, \"Stocks\")"
   ]
  },
  {
   "cell_type": "code",
   "execution_count": 98,
   "metadata": {},
   "outputs": [],
   "source": [
    "SP500_URL = \"https://www.slickcharts.com/sp500\""
   ]
  },
  {
   "cell_type": "code",
   "execution_count": 104,
   "metadata": {},
   "outputs": [],
   "source": [
    "soup_obj = scrape_sp500(SP500_URL)\n",
    "df = create_sp500_df(soup_obj)"
   ]
  },
  {
   "cell_type": "code",
   "execution_count": 121,
   "metadata": {},
   "outputs": [],
   "source": [
    "client = boto3.client('s3')\n",
    "response = client.list_objects_v2(Bucket=\"gurrastav\")\n",
    "def list_keys(bucket):\n",
    "    client = boto3.client('s3')\n",
    "    response = client.list_objects_v2(Bucket=\"gurrastav\")\n",
    "    if response.get(\"ResponseMetadata\", {}).get(\"HTTPStatusCode\") == 200:\n",
    "        return [obj.get(\"Key\") for obj in response.get(\"Contents\")]"
   ]
  },
  {
   "cell_type": "code",
   "execution_count": 122,
   "metadata": {},
   "outputs": [],
   "source": [
    "def upload_df_to_s3(df, bucket, dest_key):\n",
    "    client = boto3.client('s3')\n",
    "    csv_buffer = io.BytesIO()\n",
    "    df.to_csv(csv_buffer)\n",
    "    client.upload_fileobj(csv_buffer, bucket, dest_key)\n",
    "\n",
    "csv_buffer = io.BytesIO()\n",
    "df.to_csv(csv_buffer)\n",
    "\n",
    "client.upload_fileobj(csv_buffer, \"gurrastav\", f\"sp500/{datetime.datetime.now().strftime('%Y_%m_%d')}.csv\")"
   ]
  },
  {
   "cell_type": "code",
   "execution_count": 125,
   "metadata": {},
   "outputs": [
    {
     "name": "stdout",
     "output_type": "stream",
     "text": [
      "sp500/\n",
      "sp500/2023_06_10\n",
      "sp500/2023_06_10.csv\n",
      "sp500/testing\n"
     ]
    }
   ],
   "source": [
    "for key in list_keys(\"gurrastav\"):\n",
    "    print(key)"
   ]
  },
  {
   "cell_type": "code",
   "execution_count": 119,
   "metadata": {},
   "outputs": [
    {
     "name": "stdout",
     "output_type": "stream",
     "text": [
      "2023_06_10\n"
     ]
    }
   ],
   "source": []
  },
  {
   "cell_type": "code",
   "execution_count": null,
   "metadata": {},
   "outputs": [],
   "source": []
  }
 ],
 "metadata": {
  "kernelspec": {
   "display_name": ".venv",
   "language": "python",
   "name": "python3"
  },
  "language_info": {
   "codemirror_mode": {
    "name": "ipython",
    "version": 3
   },
   "file_extension": ".py",
   "mimetype": "text/x-python",
   "name": "python",
   "nbconvert_exporter": "python",
   "pygments_lexer": "ipython3",
   "version": "3.10.12"
  },
  "orig_nbformat": 4
 },
 "nbformat": 4,
 "nbformat_minor": 2
}
